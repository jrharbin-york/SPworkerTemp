{
 "cells": [
  {
   "cell_type": "code",
   "execution_count": 516,
   "id": "c831dc1b-d1e0-4fd2-a876-f33c27320ccb",
   "metadata": {},
   "outputs": [],
   "source": [
    "# https://www.sktime.net/en/v0.24.1/examples/transformation/rocket.html\n",
    "\n",
    "from sktime.transformations.panel.rocket import Rocket\n",
    "from matplotlib import pyplot as plt\n",
    "from sktime.utils.plotting import plot_series\n",
    "from sklearn.linear_model import RidgeClassifierCV\n",
    "import ipywidgets as widgets\n",
    "import numpy as np\n",
    "import pandas as pd\n",
    "import os\n",
    "from sktime.pipeline import make_pipeline"
   ]
  },
  {
   "cell_type": "code",
   "execution_count": 517,
   "id": "a0b725db",
   "metadata": {},
   "outputs": [],
   "source": [
    "import ipywidgets as widgets\n",
    "from ipywidgets import interact, interact_manual"
   ]
  },
  {
   "cell_type": "code",
   "execution_count": 518,
   "id": "cdf436e4",
   "metadata": {},
   "outputs": [],
   "source": [
    "#num_ops = 9"
   ]
  },
  {
   "cell_type": "code",
   "execution_count": 519,
   "id": "fd7ba264",
   "metadata": {},
   "outputs": [],
   "source": [
    "# Need multiple rocket kernels - an array propertional to the number of operation time series\n",
    "#trf = Rocket(num_kernels=512)\n",
    "#classifier = RidgeClassifierCV(alphas = np.logspace(-3, 3, 10))\n",
    "#train_ts_combined = None\n",
    "#train_metrics = load_train_metrics()"
   ]
  },
  {
   "cell_type": "code",
   "execution_count": 520,
   "id": "d63819bc",
   "metadata": {},
   "outputs": [],
   "source": [
    "# Seperate set of training data per column in rocket_tfs"
   ]
  },
  {
   "cell_type": "code",
   "execution_count": 521,
   "id": "c73b7c71",
   "metadata": {},
   "outputs": [],
   "source": [
    "# test_num has to be zero based\n",
    "def import_single_test_csv_into_train_data(file, test_num, train_test_count, train_data):\n",
    "    df = pd.read_csv(file)\n",
    "    num_ops = len(df.columns)\n",
    "    op_num = 0\n",
    "    for op_name, op_series in df.items():\n",
    "        time_len = len(op_series)\n",
    "        # Need to add this to the training_data\n",
    "        #add_to_train_data(op_name, op_series, test_num, train_data)\n",
    "        train_data[op_num] = np.zeros((time_len, train_test_count),dtype=float)\n",
    "        train_data[op_num][:, test_num] = op_series\n",
    "        op_num += 1\n",
    "    return train_data"
   ]
  },
  {
   "cell_type": "code",
   "execution_count": 522,
   "id": "7ba161c0",
   "metadata": {},
   "outputs": [],
   "source": [
    "#train_data = {}\n",
    "# Import test\n",
    "#trf = Rocket(num_kernels=512)\n",
    "#import_single_test_csv_into_train_data(trf, \"/tmp/testCSV/Test_001_18_01_2024_05_28_25.csv\", 1, 32, train_data)\n",
    "#train_data['dosAttackTrigger'].shape"
   ]
  },
  {
   "cell_type": "code",
   "execution_count": 523,
   "id": "bfb99162",
   "metadata": {},
   "outputs": [],
   "source": [
    "# Trains a ROCKET transformer for the numbered series\n",
    "def train_rocket_for_op_num(train_data, train_ts_combined, rocket_trfs, op_num):\n",
    "    rocket_trfs[op_num] = Rocket(num_kernels=512)\n",
    "    trf = rocket_trfs[op_num]\n",
    "    trf.fit(train_data[op_num])\n",
    "    fitted = trf.transform(train_data[op_num])\n",
    "    print(\"fitted=\",fitted)\n",
    "    #print(\"train_ts_combined=\" + str(train_ts_combined))\n",
    "    if train_ts_combined is None:\n",
    "        train_ts_combined = fitted\n",
    "    else:\n",
    "        train_ts_combined.join(fitted, lsuffix=(\"series\" + str(op_num)))\n",
    "    return train_ts_combined"
   ]
  },
  {
   "cell_type": "code",
   "execution_count": 524,
   "id": "5e46c59e",
   "metadata": {},
   "outputs": [],
   "source": [
    "def find_data_in_dir(csv_directory_train, csv_directory_test, metrics_dir, train_split_num):\n",
    "    files_train = os.listdir(csv_directory_train)\n",
    "    files_test = os.listdir(csv_directory_test)\n",
    "    metrics_train = pd.read_csv(\"/tmp/testCSV/metrics-train.csv\")\n",
    "    metrics_test = pd.read_csv(\"/tmp/testCSV/metrics-test.csv\")\n",
    "    return files_train, metrics_train, files_test, metrics_test        "
   ]
  },
  {
   "cell_type": "code",
   "execution_count": 525,
   "id": "9ff1676a-9940-4b94-aae5-61d0b107a6bc",
   "metadata": {},
   "outputs": [],
   "source": [
    "def rocket_complete(csv_directory_train, csv_directory_test, train_split_num, num_ops):\n",
    "    train_filenames, train_metrics, test_filenames, test_metrics = find_data_in_dir(csv_directory_train, csv_directory_test, \"\", ~train_split_num)\n",
    "    # Load the CSV data for a single Test\n",
    "    \n",
    "    train_test_count = len(train_filenames)\n",
    "    train_data = {}\n",
    "    rocket_trfs = {}\n",
    "    train_ts_combined = None\n",
    "    classifier = RidgeClassifierCV(alphas = np.logspace(-3, 3, 10))\n",
    "    train_num = 0\n",
    "    for file in train_filenames:\n",
    "        file_in_dir = csv_directory_train + \"/\" + file\n",
    "        # Split it into columns to extract each time series\n",
    "        train_data = import_single_test_csv_into_train_data(file_in_dir, train_num, train_test_count, train_data)\n",
    "        train_num += 1\n",
    "        \n",
    "    print(\"train_data[0]=\",train_data[0].shape)\n",
    "    return train_data\n",
    "        \n",
    "    for op_num in range(0,num_ops):\n",
    "        # Each column has to be processed to create a feature\n",
    "        # Then need to unify the features from all columns to provide a common set\n",
    "        train_ts_combined = train_rocket_for_op_num(train_data, train_ts_combined, rocket_trfs, op_num)\n",
    "        print(\"train_ts_combined size = \" + str(train_ts_combined))\n",
    "        \n",
    "    \n",
    "    # Fit classifier up to a fixed limit\n",
    "    # TODO: need to use regression, not classifier?\n",
    "    classifier.fit(train_ts_combined, train_metrics)\n",
    "    # Then test the prediction on the previous ones\n",
    "    \n",
    "    classifier.score(test_x_transform, test_y)\n",
    "    "
   ]
  },
  {
   "cell_type": "code",
   "execution_count": 526,
   "id": "c45682e3",
   "metadata": {},
   "outputs": [
    {
     "name": "stdout",
     "output_type": "stream",
     "text": [
      "train_data[0]= (300, 20)\n"
     ]
    },
    {
     "data": {
      "text/plain": [
       "{0: array([[0., 0., 0., ..., 0., 0., 0.],\n",
       "        [0., 0., 0., ..., 0., 0., 0.],\n",
       "        [0., 0., 0., ..., 0., 0., 0.],\n",
       "        ...,\n",
       "        [0., 0., 0., ..., 0., 0., 0.],\n",
       "        [0., 0., 0., ..., 0., 0., 0.],\n",
       "        [0., 0., 0., ..., 0., 0., 0.]]),\n",
       " 1: array([[0., 0., 0., ..., 0., 0., 0.],\n",
       "        [0., 0., 0., ..., 0., 0., 0.],\n",
       "        [0., 0., 0., ..., 0., 0., 0.],\n",
       "        ...,\n",
       "        [0., 0., 0., ..., 0., 0., 0.],\n",
       "        [0., 0., 0., ..., 0., 0., 0.],\n",
       "        [0., 0., 0., ..., 0., 0., 0.]]),\n",
       " 2: array([[0., 0., 0., ..., 0., 0., 0.],\n",
       "        [0., 0., 0., ..., 0., 0., 0.],\n",
       "        [0., 0., 0., ..., 0., 0., 0.],\n",
       "        ...,\n",
       "        [0., 0., 0., ..., 0., 0., 0.],\n",
       "        [0., 0., 0., ..., 0., 0., 0.],\n",
       "        [0., 0., 0., ..., 0., 0., 0.]]),\n",
       " 3: array([[0., 0., 0., ..., 0., 0., 0.],\n",
       "        [0., 0., 0., ..., 0., 0., 0.],\n",
       "        [0., 0., 0., ..., 0., 0., 0.],\n",
       "        ...,\n",
       "        [0., 0., 0., ..., 0., 0., 0.],\n",
       "        [0., 0., 0., ..., 0., 0., 0.],\n",
       "        [0., 0., 0., ..., 0., 0., 0.]]),\n",
       " 4: array([[0., 0., 0., ..., 0., 0., 0.],\n",
       "        [0., 0., 0., ..., 0., 0., 0.],\n",
       "        [0., 0., 0., ..., 0., 0., 0.],\n",
       "        ...,\n",
       "        [0., 0., 0., ..., 0., 0., 0.],\n",
       "        [0., 0., 0., ..., 0., 0., 0.],\n",
       "        [0., 0., 0., ..., 0., 0., 0.]])}"
      ]
     },
     "execution_count": 526,
     "metadata": {},
     "output_type": "execute_result"
    }
   ],
   "source": [
    "dir = \"/tmp/testCSV\"\n",
    "split_num = 20\n",
    "num_ops = 4\n",
    "td = rocket_complete(\"/tmp/testCSV/train/\", \"/tmp/testCSV/test/\", split_num, num_ops)\n",
    "td"
   ]
  },
  {
   "cell_type": "code",
   "execution_count": 541,
   "id": "30f94036",
   "metadata": {},
   "outputs": [],
   "source": []
  },
  {
   "cell_type": "code",
   "execution_count": 559,
   "id": "156f2745",
   "metadata": {},
   "outputs": [],
   "source": [
    "import pandas as pd\n",
    "\n",
    "cols = [\"instances\", \"time points\"] + [f\"var_{i}\" for i in range(2)]\n",
    "X = pd.concat(\n",
    "    [\n",
    "        pd.DataFrame([[0, 0, 1, 4], [0, 1, 2, 5], [0, 2, 3, 6]], columns=cols),\n",
    "        pd.DataFrame([[1, 0, 1, 4], [1, 1, 2, 55], [1, 2, 3, 6]], columns=cols),\n",
    "        pd.DataFrame([[2, 0, 1, 42], [2, 1, 2, 5], [2, 2, 3, 6]], columns=cols),\n",
    "    ]\n",
    ").set_index([\"instances\", \"time points\"])"
   ]
  },
  {
   "cell_type": "code",
   "execution_count": 534,
   "id": "774cae49",
   "metadata": {},
   "outputs": [
    {
     "data": {
      "text/html": [
       "<div>\n",
       "<style scoped>\n",
       "    .dataframe tbody tr th:only-of-type {\n",
       "        vertical-align: middle;\n",
       "    }\n",
       "\n",
       "    .dataframe tbody tr th {\n",
       "        vertical-align: top;\n",
       "    }\n",
       "\n",
       "    .dataframe thead th {\n",
       "        text-align: right;\n",
       "    }\n",
       "</style>\n",
       "<table border=\"1\" class=\"dataframe\">\n",
       "  <thead>\n",
       "    <tr style=\"text-align: right;\">\n",
       "      <th></th>\n",
       "      <th></th>\n",
       "      <th>var_0</th>\n",
       "      <th>var_1</th>\n",
       "    </tr>\n",
       "    <tr>\n",
       "      <th>instances</th>\n",
       "      <th>time points</th>\n",
       "      <th></th>\n",
       "      <th></th>\n",
       "    </tr>\n",
       "  </thead>\n",
       "  <tbody>\n",
       "    <tr>\n",
       "      <th rowspan=\"3\" valign=\"top\">0</th>\n",
       "      <th>0</th>\n",
       "      <td>1</td>\n",
       "      <td>4</td>\n",
       "    </tr>\n",
       "    <tr>\n",
       "      <th>1</th>\n",
       "      <td>2</td>\n",
       "      <td>5</td>\n",
       "    </tr>\n",
       "    <tr>\n",
       "      <th>2</th>\n",
       "      <td>3</td>\n",
       "      <td>6</td>\n",
       "    </tr>\n",
       "    <tr>\n",
       "      <th rowspan=\"3\" valign=\"top\">1</th>\n",
       "      <th>0</th>\n",
       "      <td>1</td>\n",
       "      <td>4</td>\n",
       "    </tr>\n",
       "    <tr>\n",
       "      <th>1</th>\n",
       "      <td>2</td>\n",
       "      <td>55</td>\n",
       "    </tr>\n",
       "    <tr>\n",
       "      <th>2</th>\n",
       "      <td>3</td>\n",
       "      <td>6</td>\n",
       "    </tr>\n",
       "    <tr>\n",
       "      <th rowspan=\"3\" valign=\"top\">2</th>\n",
       "      <th>0</th>\n",
       "      <td>1</td>\n",
       "      <td>42</td>\n",
       "    </tr>\n",
       "    <tr>\n",
       "      <th>1</th>\n",
       "      <td>2</td>\n",
       "      <td>5</td>\n",
       "    </tr>\n",
       "    <tr>\n",
       "      <th>2</th>\n",
       "      <td>3</td>\n",
       "      <td>6</td>\n",
       "    </tr>\n",
       "  </tbody>\n",
       "</table>\n",
       "</div>"
      ],
      "text/plain": [
       "                       var_0  var_1\n",
       "instances time points              \n",
       "0         0                1      4\n",
       "          1                2      5\n",
       "          2                3      6\n",
       "1         0                1      4\n",
       "          1                2     55\n",
       "          2                3      6\n",
       "2         0                1     42\n",
       "          1                2      5\n",
       "          2                3      6"
      ]
     },
     "execution_count": 534,
     "metadata": {},
     "output_type": "execute_result"
    }
   ],
   "source": [
    "X"
   ]
  },
  {
   "cell_type": "code",
   "execution_count": 594,
   "id": "d271d1b6",
   "metadata": {},
   "outputs": [
    {
     "data": {
      "text/plain": [
       "True"
      ]
     },
     "execution_count": 594,
     "metadata": {},
     "output_type": "execute_result"
    }
   ],
   "source": [
    "from sktime.datatypes import check_raise, convert_to\n",
    "\n",
    "df_series1 = pd.read_csv(\"/tmp/testCSV/train/Test_001_18_01_2024_05_28_25.csv\")\n",
    "# Need to ensure it has zeros for all columns if not present!\n",
    "df_series2 = pd.read_csv(\"/tmp/testCSV/train/Test_002_18_01_2024_05_28_25.csv\")\n",
    "zzz = [df_series1, df_series2]\n",
    "check_raise(zzz, mtype=\"df-list\")"
   ]
  },
  {
   "cell_type": "code",
   "execution_count": 595,
   "id": "f1449459",
   "metadata": {},
   "outputs": [
    {
     "data": {
      "text/html": [
       "<div>\n",
       "<style scoped>\n",
       "    .dataframe tbody tr th:only-of-type {\n",
       "        vertical-align: middle;\n",
       "    }\n",
       "\n",
       "    .dataframe tbody tr th {\n",
       "        vertical-align: top;\n",
       "    }\n",
       "\n",
       "    .dataframe thead th {\n",
       "        text-align: right;\n",
       "    }\n",
       "</style>\n",
       "<table border=\"1\" class=\"dataframe\">\n",
       "  <thead>\n",
       "    <tr style=\"text-align: right;\">\n",
       "      <th></th>\n",
       "      <th></th>\n",
       "      <th>dosAttackTrigger</th>\n",
       "      <th>distortBaseScanPMB2</th>\n",
       "      <th>delayBaseScanOmni</th>\n",
       "      <th>delayBaseScanPMB2</th>\n",
       "    </tr>\n",
       "    <tr>\n",
       "      <th>instances</th>\n",
       "      <th>timepoints</th>\n",
       "      <th></th>\n",
       "      <th></th>\n",
       "      <th></th>\n",
       "      <th></th>\n",
       "    </tr>\n",
       "  </thead>\n",
       "  <tbody>\n",
       "    <tr>\n",
       "      <th rowspan=\"5\" valign=\"top\">0</th>\n",
       "      <th>0</th>\n",
       "      <td>0.0</td>\n",
       "      <td>0.0</td>\n",
       "      <td>0.0</td>\n",
       "      <td>0.0</td>\n",
       "    </tr>\n",
       "    <tr>\n",
       "      <th>1</th>\n",
       "      <td>0.0</td>\n",
       "      <td>0.0</td>\n",
       "      <td>0.0</td>\n",
       "      <td>0.0</td>\n",
       "    </tr>\n",
       "    <tr>\n",
       "      <th>2</th>\n",
       "      <td>0.0</td>\n",
       "      <td>0.0</td>\n",
       "      <td>0.0</td>\n",
       "      <td>0.0</td>\n",
       "    </tr>\n",
       "    <tr>\n",
       "      <th>3</th>\n",
       "      <td>0.0</td>\n",
       "      <td>0.0</td>\n",
       "      <td>0.0</td>\n",
       "      <td>0.0</td>\n",
       "    </tr>\n",
       "    <tr>\n",
       "      <th>4</th>\n",
       "      <td>0.0</td>\n",
       "      <td>0.0</td>\n",
       "      <td>0.0</td>\n",
       "      <td>0.0</td>\n",
       "    </tr>\n",
       "    <tr>\n",
       "      <th>...</th>\n",
       "      <th>...</th>\n",
       "      <td>...</td>\n",
       "      <td>...</td>\n",
       "      <td>...</td>\n",
       "      <td>...</td>\n",
       "    </tr>\n",
       "    <tr>\n",
       "      <th rowspan=\"5\" valign=\"top\">1</th>\n",
       "      <th>295</th>\n",
       "      <td>0.0</td>\n",
       "      <td>NaN</td>\n",
       "      <td>NaN</td>\n",
       "      <td>NaN</td>\n",
       "    </tr>\n",
       "    <tr>\n",
       "      <th>296</th>\n",
       "      <td>0.0</td>\n",
       "      <td>NaN</td>\n",
       "      <td>NaN</td>\n",
       "      <td>NaN</td>\n",
       "    </tr>\n",
       "    <tr>\n",
       "      <th>297</th>\n",
       "      <td>0.0</td>\n",
       "      <td>NaN</td>\n",
       "      <td>NaN</td>\n",
       "      <td>NaN</td>\n",
       "    </tr>\n",
       "    <tr>\n",
       "      <th>298</th>\n",
       "      <td>0.0</td>\n",
       "      <td>NaN</td>\n",
       "      <td>NaN</td>\n",
       "      <td>NaN</td>\n",
       "    </tr>\n",
       "    <tr>\n",
       "      <th>299</th>\n",
       "      <td>0.0</td>\n",
       "      <td>NaN</td>\n",
       "      <td>NaN</td>\n",
       "      <td>NaN</td>\n",
       "    </tr>\n",
       "  </tbody>\n",
       "</table>\n",
       "<p>600 rows × 4 columns</p>\n",
       "</div>"
      ],
      "text/plain": [
       "                      dosAttackTrigger  distortBaseScanPMB2  \\\n",
       "instances timepoints                                          \n",
       "0         0                        0.0                  0.0   \n",
       "          1                        0.0                  0.0   \n",
       "          2                        0.0                  0.0   \n",
       "          3                        0.0                  0.0   \n",
       "          4                        0.0                  0.0   \n",
       "...                                ...                  ...   \n",
       "1         295                      0.0                  NaN   \n",
       "          296                      0.0                  NaN   \n",
       "          297                      0.0                  NaN   \n",
       "          298                      0.0                  NaN   \n",
       "          299                      0.0                  NaN   \n",
       "\n",
       "                      delayBaseScanOmni  delayBaseScanPMB2  \n",
       "instances timepoints                                        \n",
       "0         0                         0.0                0.0  \n",
       "          1                         0.0                0.0  \n",
       "          2                         0.0                0.0  \n",
       "          3                         0.0                0.0  \n",
       "          4                         0.0                0.0  \n",
       "...                                 ...                ...  \n",
       "1         295                       NaN                NaN  \n",
       "          296                       NaN                NaN  \n",
       "          297                       NaN                NaN  \n",
       "          298                       NaN                NaN  \n",
       "          299                       NaN                NaN  \n",
       "\n",
       "[600 rows x 4 columns]"
      ]
     },
     "execution_count": 595,
     "metadata": {},
     "output_type": "execute_result"
    }
   ],
   "source": [
    "convert_to(zzz, to_type=\"pd-multiindex\")\n",
    "\n",
    "# Load all the dataframes for either test or training\n",
    "# Ensure all their missing columns can be filled in with zeros\n",
    "# Make a list of them, use check_raise and the df-list mtype to ensure they are valid\n",
    "# Pass to ROCKET pipeline as seen"
   ]
  },
  {
   "cell_type": "code",
   "execution_count": 574,
   "id": "f8535eb5",
   "metadata": {},
   "outputs": [
    {
     "data": {
      "text/plain": [
       "array([  0,   1,   2,   3,   4,   5,   6,   7,   8,   9,  10,  11,  12,\n",
       "        13,  14,  15,  16,  17,  18,  19,  20,  21,  22,  23,  24,  25,\n",
       "        26,  27,  28,  29,  30,  31,  32,  33,  34,  35,  36,  37,  38,\n",
       "        39,  40,  41,  42,  43,  44,  45,  46,  47,  48,  49,  50,  51,\n",
       "        52,  53,  54,  55,  56,  57,  58,  59,  60,  61,  62,  63,  64,\n",
       "        65,  66,  67,  68,  69,  70,  71,  72,  73,  74,  75,  76,  77,\n",
       "        78,  79,  80,  81,  82,  83,  84,  85,  86,  87,  88,  89,  90,\n",
       "        91,  92,  93,  94,  95,  96,  97,  98,  99, 100, 101, 102, 103,\n",
       "       104, 105, 106, 107, 108, 109, 110, 111, 112, 113, 114, 115, 116,\n",
       "       117, 118, 119, 120, 121, 122, 123, 124, 125, 126, 127, 128, 129,\n",
       "       130, 131, 132, 133, 134, 135, 136, 137, 138, 139, 140, 141, 142,\n",
       "       143, 144, 145, 146, 147, 148, 149, 150, 151, 152, 153, 154, 155,\n",
       "       156, 157, 158, 159, 160, 161, 162, 163, 164, 165, 166, 167, 168,\n",
       "       169, 170, 171, 172, 173, 174, 175, 176, 177, 178, 179, 180, 181,\n",
       "       182, 183, 184, 185, 186, 187, 188, 189, 190, 191, 192, 193, 194,\n",
       "       195, 196, 197, 198, 199, 200, 201, 202, 203, 204, 205, 206, 207,\n",
       "       208, 209, 210, 211, 212, 213, 214, 215, 216, 217, 218, 219, 220,\n",
       "       221, 222, 223, 224, 225, 226, 227, 228, 229, 230, 231, 232, 233,\n",
       "       234, 235, 236, 237, 238, 239, 240, 241, 242, 243, 244, 245, 246,\n",
       "       247, 248, 249, 250, 251, 252, 253, 254, 255, 256, 257, 258, 259,\n",
       "       260, 261, 262, 263, 264, 265, 266, 267, 268, 269, 270, 271, 272,\n",
       "       273, 274, 275, 276, 277, 278, 279, 280, 281, 282, 283, 284, 285,\n",
       "       286, 287, 288, 289, 290, 291, 292, 293, 294, 295, 296, 297, 298,\n",
       "       299])"
      ]
     },
     "execution_count": 574,
     "metadata": {},
     "output_type": "execute_result"
    }
   ],
   "source": []
  },
  {
   "cell_type": "code",
   "execution_count": 583,
   "id": "995d280d",
   "metadata": {
    "scrolled": true
   },
   "outputs": [
    {
     "data": {
      "text/html": [
       "<div>\n",
       "<style scoped>\n",
       "    .dataframe tbody tr th:only-of-type {\n",
       "        vertical-align: middle;\n",
       "    }\n",
       "\n",
       "    .dataframe tbody tr th {\n",
       "        vertical-align: top;\n",
       "    }\n",
       "\n",
       "    .dataframe thead th {\n",
       "        text-align: right;\n",
       "    }\n",
       "</style>\n",
       "<table border=\"1\" class=\"dataframe\">\n",
       "  <thead>\n",
       "    <tr style=\"text-align: right;\">\n",
       "      <th></th>\n",
       "      <th>dosAttackTrigger</th>\n",
       "      <th>timesteps</th>\n",
       "    </tr>\n",
       "    <tr>\n",
       "      <th>distortBaseScanPMB2</th>\n",
       "      <th></th>\n",
       "      <th></th>\n",
       "    </tr>\n",
       "  </thead>\n",
       "  <tbody>\n",
       "    <tr>\n",
       "      <th>0.0</th>\n",
       "      <td>0.0</td>\n",
       "      <td>0</td>\n",
       "    </tr>\n",
       "    <tr>\n",
       "      <th>0.0</th>\n",
       "      <td>0.0</td>\n",
       "      <td>1</td>\n",
       "    </tr>\n",
       "    <tr>\n",
       "      <th>0.0</th>\n",
       "      <td>0.0</td>\n",
       "      <td>2</td>\n",
       "    </tr>\n",
       "    <tr>\n",
       "      <th>0.0</th>\n",
       "      <td>0.0</td>\n",
       "      <td>3</td>\n",
       "    </tr>\n",
       "    <tr>\n",
       "      <th>0.0</th>\n",
       "      <td>0.0</td>\n",
       "      <td>4</td>\n",
       "    </tr>\n",
       "    <tr>\n",
       "      <th>...</th>\n",
       "      <td>...</td>\n",
       "      <td>...</td>\n",
       "    </tr>\n",
       "    <tr>\n",
       "      <th>0.0</th>\n",
       "      <td>0.0</td>\n",
       "      <td>295</td>\n",
       "    </tr>\n",
       "    <tr>\n",
       "      <th>0.0</th>\n",
       "      <td>0.0</td>\n",
       "      <td>296</td>\n",
       "    </tr>\n",
       "    <tr>\n",
       "      <th>0.0</th>\n",
       "      <td>0.0</td>\n",
       "      <td>297</td>\n",
       "    </tr>\n",
       "    <tr>\n",
       "      <th>0.0</th>\n",
       "      <td>0.0</td>\n",
       "      <td>298</td>\n",
       "    </tr>\n",
       "    <tr>\n",
       "      <th>0.0</th>\n",
       "      <td>0.0</td>\n",
       "      <td>299</td>\n",
       "    </tr>\n",
       "  </tbody>\n",
       "</table>\n",
       "<p>300 rows × 2 columns</p>\n",
       "</div>"
      ],
      "text/plain": [
       "                     dosAttackTrigger  timesteps\n",
       "distortBaseScanPMB2                             \n",
       "0.0                               0.0          0\n",
       "0.0                               0.0          1\n",
       "0.0                               0.0          2\n",
       "0.0                               0.0          3\n",
       "0.0                               0.0          4\n",
       "...                               ...        ...\n",
       "0.0                               0.0        295\n",
       "0.0                               0.0        296\n",
       "0.0                               0.0        297\n",
       "0.0                               0.0        298\n",
       "0.0                               0.0        299\n",
       "\n",
       "[300 rows x 2 columns]"
      ]
     },
     "execution_count": 583,
     "metadata": {},
     "output_type": "execute_result"
    }
   ],
   "source": [
    "cols = [\"instances\", \"time points\", \"dosAttackTrigger\", \"distortBaseScanPMB2\", \"delayBaseScanOmni\", \"delayBaseScanPMB2\"]\n",
    "# Need time series of lengths - 0 to 300\n",
    "timesteps = np.arange(0,300)\n",
    "df[\"timesteps\"] = timesteps\n",
    "df\n"
   ]
  },
  {
   "cell_type": "code",
   "execution_count": 555,
   "id": "018ce0a7",
   "metadata": {},
   "outputs": [
    {
     "ename": "SyntaxError",
     "evalue": "incomplete input (1611151946.py, line 3)",
     "output_type": "error",
     "traceback": [
      "\u001b[0;36m  Cell \u001b[0;32mIn[555], line 3\u001b[0;36m\u001b[0m\n\u001b[0;31m    pd.DataFrame([df_series1[\"dosAttackTrigger\"], df_series2[\"dosAttackTrigger\"]], columns=cols).set_index([\"instances\", \"time points\"])\u001b[0m\n\u001b[0m                                                                                                                                        ^\u001b[0m\n\u001b[0;31mSyntaxError\u001b[0m\u001b[0;31m:\u001b[0m incomplete input\n"
     ]
    }
   ],
   "source": [
    "cols = [\"instances\", \"time points\"] + [f\"var_{i}\" for i in range(2)]\n",
    "X = pd.concat(\n",
    "    [df_series1[\"dosAttackTrigger\"], df_series2[\"dosAttackTrigger\"]], columns=cols).set_index([\"instances\", \"time points\"])"
   ]
  },
  {
   "cell_type": "code",
   "execution_count": 585,
   "id": "181952c3",
   "metadata": {},
   "outputs": [
    {
     "ename": "NameError",
     "evalue": "name 'get_examples' is not defined",
     "output_type": "error",
     "traceback": [
      "\u001b[0;31m---------------------------------------------------------------------------\u001b[0m",
      "\u001b[0;31mNameError\u001b[0m                                 Traceback (most recent call last)",
      "Cell \u001b[0;32mIn[585], line 1\u001b[0m\n\u001b[0;32m----> 1\u001b[0m \u001b[43mget_examples\u001b[49m(mtype\u001b[38;5;241m=\u001b[39m\u001b[38;5;124m\"\u001b[39m\u001b[38;5;124mdf-list\u001b[39m\u001b[38;5;124m\"\u001b[39m, as_scitype\u001b[38;5;241m=\u001b[39m\u001b[38;5;124m\"\u001b[39m\u001b[38;5;124mPanel\u001b[39m\u001b[38;5;124m\"\u001b[39m)[\u001b[38;5;241m0\u001b[39m]\n",
      "\u001b[0;31mNameError\u001b[0m: name 'get_examples' is not defined"
     ]
    }
   ],
   "source": [
    "get_examples(mtype=\"df-list\", as_scitype=\"Panel\")[0]"
   ]
  },
  {
   "cell_type": "code",
   "execution_count": 598,
   "id": "ac0266b6",
   "metadata": {},
   "outputs": [
    {
     "data": {
      "text/plain": [
       "array([ 1,  4,  9, 16, 25])"
      ]
     },
     "execution_count": 598,
     "metadata": {},
     "output_type": "execute_result"
    }
   ],
   "source": [
    "import numpy as np\n",
    "x = np.array([1, 2, 3, 4, 5])\n",
    "f = lambda x: x ** 2\n",
    "squares = f(x)\n",
    "squares"
   ]
  },
  {
   "cell_type": "code",
   "execution_count": null,
   "id": "842d6c5e",
   "metadata": {},
   "outputs": [],
   "source": []
  }
 ],
 "metadata": {
  "kernelspec": {
   "display_name": "Python 3 (ipykernel)",
   "language": "python",
   "name": "python3"
  },
  "language_info": {
   "codemirror_mode": {
    "name": "ipython",
    "version": 3
   },
   "file_extension": ".py",
   "mimetype": "text/x-python",
   "name": "python",
   "nbconvert_exporter": "python",
   "pygments_lexer": "ipython3",
   "version": "3.12.2"
  }
 },
 "nbformat": 4,
 "nbformat_minor": 5
}
