{
 "cells": [
  {
   "cell_type": "code",
   "execution_count": 286,
   "id": "0d07c587",
   "metadata": {},
   "outputs": [],
   "source": [
    "#https://medium.com/dida-machine-learning/inside-x-rocket-explaining-the-explainable-rocket-534b104c4a08"
   ]
  },
  {
   "cell_type": "code",
   "execution_count": 98,
   "id": "c831dc1b-d1e0-4fd2-a876-f33c27320ccb",
   "metadata": {},
   "outputs": [],
   "source": [
    "# https://www.sktime.net/en/v0.24.1/examples/transformation/rocket.html\n",
    "from sktime.datatypes import check_raise, convert_to\n",
    "from sktime.transformations.panel.rocket import Rocket\n",
    "from matplotlib import pyplot as plt\n",
    "from sktime.utils.plotting import plot_series\n",
    "from sklearn.linear_model import RidgeClassifierCV, RidgeCV\n",
    "import ipywidgets as widgets\n",
    "import numpy as np\n",
    "import pandas as pd\n",
    "import os\n",
    "from sktime.pipeline import make_pipeline"
   ]
  },
  {
   "cell_type": "code",
   "execution_count": 99,
   "id": "a0b725db",
   "metadata": {},
   "outputs": [],
   "source": [
    "#import ipywidgets as widgets\n",
    "#from ipywidgets import interact, interact_manual"
   ]
  },
  {
   "cell_type": "code",
   "execution_count": 100,
   "id": "ac0266b6",
   "metadata": {},
   "outputs": [],
   "source": [
    "# Load all the dataframes for either test or training\n",
    "# Ensure all their missing columns can be filled in with zeros\n",
    "# Make a list of them, use check_raise and the df-list mtype to ensure they are valid\n",
    "# Pass to ROCKET pipeline as seen"
   ]
  },
  {
   "cell_type": "code",
   "execution_count": 101,
   "id": "72d3f498",
   "metadata": {},
   "outputs": [],
   "source": [
    "def load_invidual_instance(filename, needed_columns):\n",
    "    df = pd.read_csv(filename)\n",
    "    for col in needed_columns:\n",
    "         if not (col in df.columns):\n",
    "            df[col] = 0.0\n",
    "    return df"
   ]
  },
  {
   "cell_type": "code",
   "execution_count": 102,
   "id": "89139a8b",
   "metadata": {},
   "outputs": [],
   "source": [
    "def create_combined_data(base_dir, filenames, needed_columns):\n",
    "    combined_data_m = map(lambda file: load_invidual_instance(base_dir + \"/\" + file, needed_columns), filenames)\n",
    "    combined_data = list(combined_data_m)\n",
    "    print(\"Check data: \",check_raise(combined_data, mtype=\"df-list\"))\n",
    "    return combined_data"
   ]
  },
  {
   "cell_type": "code",
   "execution_count": 103,
   "id": "82e7d28c",
   "metadata": {},
   "outputs": [
    {
     "ename": "FileNotFoundError",
     "evalue": "[Errno 2] No such file or directory: '/home/jharbin/academic/soprano/SPworkerTemp/notebooks/predictor/temp-data/train/Test_001_18_01_2024_05_28_25.csv'",
     "output_type": "error",
     "traceback": [
      "\u001b[0;31m---------------------------------------------------------------------------\u001b[0m",
      "\u001b[0;31mFileNotFoundError\u001b[0m                         Traceback (most recent call last)",
      "Cell \u001b[0;32mIn[103], line 2\u001b[0m\n\u001b[1;32m      1\u001b[0m needed_columns \u001b[38;5;241m=\u001b[39m [\u001b[38;5;124m'\u001b[39m\u001b[38;5;124mdosAttackTrigger\u001b[39m\u001b[38;5;124m'\u001b[39m, \u001b[38;5;124m'\u001b[39m\u001b[38;5;124mdistortBaseScanPMB2\u001b[39m\u001b[38;5;124m'\u001b[39m, \u001b[38;5;124m'\u001b[39m\u001b[38;5;124mdistortBaseScanOmni\u001b[39m\u001b[38;5;124m'\u001b[39m, \u001b[38;5;124m'\u001b[39m\u001b[38;5;124mdistortBaseScanTiago\u001b[39m\u001b[38;5;124m'\u001b[39m, \u001b[38;5;124m'\u001b[39m\u001b[38;5;124mpacketLossLaserScanOmni\u001b[39m\u001b[38;5;124m'\u001b[39m, \u001b[38;5;124m'\u001b[39m\u001b[38;5;124mpacketLossLaserScanPMB2\u001b[39m\u001b[38;5;124m'\u001b[39m, \u001b[38;5;124m'\u001b[39m\u001b[38;5;124mpacketLossLaserScanTiago\u001b[39m\u001b[38;5;124m'\u001b[39m, \u001b[38;5;124m'\u001b[39m\u001b[38;5;124mdelayBaseScanOmni\u001b[39m\u001b[38;5;124m'\u001b[39m, \u001b[38;5;124m'\u001b[39m\u001b[38;5;124mdelayBaseScanPMB2\u001b[39m\u001b[38;5;124m'\u001b[39m, \u001b[38;5;124m'\u001b[39m\u001b[38;5;124mdelayBaseScanTiago1\u001b[39m\u001b[38;5;124m'\u001b[39m]\n\u001b[0;32m----> 2\u001b[0m \u001b[43mcreate_combined_data\u001b[49m\u001b[43m(\u001b[49m\u001b[38;5;124;43m\"\u001b[39;49m\u001b[38;5;124;43m/home/jharbin/academic/soprano/SPworkerTemp/notebooks/predictor/temp-data/train\u001b[39;49m\u001b[38;5;124;43m\"\u001b[39;49m\u001b[43m,\u001b[49m\u001b[43m \u001b[49m\u001b[43m[\u001b[49m\u001b[38;5;124;43m\"\u001b[39;49m\u001b[38;5;124;43mTest_001_18_01_2024_05_28_25.csv\u001b[39;49m\u001b[38;5;124;43m\"\u001b[39;49m\u001b[43m]\u001b[49m\u001b[43m,\u001b[49m\u001b[43m \u001b[49m\u001b[43mneeded_columns\u001b[49m\u001b[43m)\u001b[49m\n",
      "Cell \u001b[0;32mIn[102], line 3\u001b[0m, in \u001b[0;36mcreate_combined_data\u001b[0;34m(base_dir, filenames, needed_columns)\u001b[0m\n\u001b[1;32m      1\u001b[0m \u001b[38;5;28;01mdef\u001b[39;00m \u001b[38;5;21mcreate_combined_data\u001b[39m(base_dir, filenames, needed_columns):\n\u001b[1;32m      2\u001b[0m     combined_data_m \u001b[38;5;241m=\u001b[39m \u001b[38;5;28mmap\u001b[39m(\u001b[38;5;28;01mlambda\u001b[39;00m file: load_invidual_instance(base_dir \u001b[38;5;241m+\u001b[39m \u001b[38;5;124m\"\u001b[39m\u001b[38;5;124m/\u001b[39m\u001b[38;5;124m\"\u001b[39m \u001b[38;5;241m+\u001b[39m file, needed_columns), filenames)\n\u001b[0;32m----> 3\u001b[0m     combined_data \u001b[38;5;241m=\u001b[39m \u001b[38;5;28;43mlist\u001b[39;49m\u001b[43m(\u001b[49m\u001b[43mcombined_data_m\u001b[49m\u001b[43m)\u001b[49m\n\u001b[1;32m      4\u001b[0m     \u001b[38;5;28mprint\u001b[39m(\u001b[38;5;124m\"\u001b[39m\u001b[38;5;124mCheck data: \u001b[39m\u001b[38;5;124m\"\u001b[39m,check_raise(combined_data, mtype\u001b[38;5;241m=\u001b[39m\u001b[38;5;124m\"\u001b[39m\u001b[38;5;124mdf-list\u001b[39m\u001b[38;5;124m\"\u001b[39m))\n\u001b[1;32m      5\u001b[0m     \u001b[38;5;28;01mreturn\u001b[39;00m combined_data\n",
      "Cell \u001b[0;32mIn[102], line 2\u001b[0m, in \u001b[0;36mcreate_combined_data.<locals>.<lambda>\u001b[0;34m(file)\u001b[0m\n\u001b[1;32m      1\u001b[0m \u001b[38;5;28;01mdef\u001b[39;00m \u001b[38;5;21mcreate_combined_data\u001b[39m(base_dir, filenames, needed_columns):\n\u001b[0;32m----> 2\u001b[0m     combined_data_m \u001b[38;5;241m=\u001b[39m \u001b[38;5;28mmap\u001b[39m(\u001b[38;5;28;01mlambda\u001b[39;00m file: \u001b[43mload_invidual_instance\u001b[49m\u001b[43m(\u001b[49m\u001b[43mbase_dir\u001b[49m\u001b[43m \u001b[49m\u001b[38;5;241;43m+\u001b[39;49m\u001b[43m \u001b[49m\u001b[38;5;124;43m\"\u001b[39;49m\u001b[38;5;124;43m/\u001b[39;49m\u001b[38;5;124;43m\"\u001b[39;49m\u001b[43m \u001b[49m\u001b[38;5;241;43m+\u001b[39;49m\u001b[43m \u001b[49m\u001b[43mfile\u001b[49m\u001b[43m,\u001b[49m\u001b[43m \u001b[49m\u001b[43mneeded_columns\u001b[49m\u001b[43m)\u001b[49m, filenames)\n\u001b[1;32m      3\u001b[0m     combined_data \u001b[38;5;241m=\u001b[39m \u001b[38;5;28mlist\u001b[39m(combined_data_m)\n\u001b[1;32m      4\u001b[0m     \u001b[38;5;28mprint\u001b[39m(\u001b[38;5;124m\"\u001b[39m\u001b[38;5;124mCheck data: \u001b[39m\u001b[38;5;124m\"\u001b[39m,check_raise(combined_data, mtype\u001b[38;5;241m=\u001b[39m\u001b[38;5;124m\"\u001b[39m\u001b[38;5;124mdf-list\u001b[39m\u001b[38;5;124m\"\u001b[39m))\n",
      "Cell \u001b[0;32mIn[101], line 2\u001b[0m, in \u001b[0;36mload_invidual_instance\u001b[0;34m(filename, needed_columns)\u001b[0m\n\u001b[1;32m      1\u001b[0m \u001b[38;5;28;01mdef\u001b[39;00m \u001b[38;5;21mload_invidual_instance\u001b[39m(filename, needed_columns):\n\u001b[0;32m----> 2\u001b[0m     df \u001b[38;5;241m=\u001b[39m \u001b[43mpd\u001b[49m\u001b[38;5;241;43m.\u001b[39;49m\u001b[43mread_csv\u001b[49m\u001b[43m(\u001b[49m\u001b[43mfilename\u001b[49m\u001b[43m)\u001b[49m\n\u001b[1;32m      3\u001b[0m     \u001b[38;5;28;01mfor\u001b[39;00m col \u001b[38;5;129;01min\u001b[39;00m needed_columns:\n\u001b[1;32m      4\u001b[0m          \u001b[38;5;28;01mif\u001b[39;00m \u001b[38;5;129;01mnot\u001b[39;00m (col \u001b[38;5;129;01min\u001b[39;00m df\u001b[38;5;241m.\u001b[39mcolumns):\n",
      "File \u001b[0;32m~/python-venvs/sktime/lib/python3.12/site-packages/pandas/io/parsers/readers.py:1026\u001b[0m, in \u001b[0;36mread_csv\u001b[0;34m(filepath_or_buffer, sep, delimiter, header, names, index_col, usecols, dtype, engine, converters, true_values, false_values, skipinitialspace, skiprows, skipfooter, nrows, na_values, keep_default_na, na_filter, verbose, skip_blank_lines, parse_dates, infer_datetime_format, keep_date_col, date_parser, date_format, dayfirst, cache_dates, iterator, chunksize, compression, thousands, decimal, lineterminator, quotechar, quoting, doublequote, escapechar, comment, encoding, encoding_errors, dialect, on_bad_lines, delim_whitespace, low_memory, memory_map, float_precision, storage_options, dtype_backend)\u001b[0m\n\u001b[1;32m   1013\u001b[0m kwds_defaults \u001b[38;5;241m=\u001b[39m _refine_defaults_read(\n\u001b[1;32m   1014\u001b[0m     dialect,\n\u001b[1;32m   1015\u001b[0m     delimiter,\n\u001b[0;32m   (...)\u001b[0m\n\u001b[1;32m   1022\u001b[0m     dtype_backend\u001b[38;5;241m=\u001b[39mdtype_backend,\n\u001b[1;32m   1023\u001b[0m )\n\u001b[1;32m   1024\u001b[0m kwds\u001b[38;5;241m.\u001b[39mupdate(kwds_defaults)\n\u001b[0;32m-> 1026\u001b[0m \u001b[38;5;28;01mreturn\u001b[39;00m \u001b[43m_read\u001b[49m\u001b[43m(\u001b[49m\u001b[43mfilepath_or_buffer\u001b[49m\u001b[43m,\u001b[49m\u001b[43m \u001b[49m\u001b[43mkwds\u001b[49m\u001b[43m)\u001b[49m\n",
      "File \u001b[0;32m~/python-venvs/sktime/lib/python3.12/site-packages/pandas/io/parsers/readers.py:620\u001b[0m, in \u001b[0;36m_read\u001b[0;34m(filepath_or_buffer, kwds)\u001b[0m\n\u001b[1;32m    617\u001b[0m _validate_names(kwds\u001b[38;5;241m.\u001b[39mget(\u001b[38;5;124m\"\u001b[39m\u001b[38;5;124mnames\u001b[39m\u001b[38;5;124m\"\u001b[39m, \u001b[38;5;28;01mNone\u001b[39;00m))\n\u001b[1;32m    619\u001b[0m \u001b[38;5;66;03m# Create the parser.\u001b[39;00m\n\u001b[0;32m--> 620\u001b[0m parser \u001b[38;5;241m=\u001b[39m \u001b[43mTextFileReader\u001b[49m\u001b[43m(\u001b[49m\u001b[43mfilepath_or_buffer\u001b[49m\u001b[43m,\u001b[49m\u001b[43m \u001b[49m\u001b[38;5;241;43m*\u001b[39;49m\u001b[38;5;241;43m*\u001b[39;49m\u001b[43mkwds\u001b[49m\u001b[43m)\u001b[49m\n\u001b[1;32m    622\u001b[0m \u001b[38;5;28;01mif\u001b[39;00m chunksize \u001b[38;5;129;01mor\u001b[39;00m iterator:\n\u001b[1;32m    623\u001b[0m     \u001b[38;5;28;01mreturn\u001b[39;00m parser\n",
      "File \u001b[0;32m~/python-venvs/sktime/lib/python3.12/site-packages/pandas/io/parsers/readers.py:1620\u001b[0m, in \u001b[0;36mTextFileReader.__init__\u001b[0;34m(self, f, engine, **kwds)\u001b[0m\n\u001b[1;32m   1617\u001b[0m     \u001b[38;5;28mself\u001b[39m\u001b[38;5;241m.\u001b[39moptions[\u001b[38;5;124m\"\u001b[39m\u001b[38;5;124mhas_index_names\u001b[39m\u001b[38;5;124m\"\u001b[39m] \u001b[38;5;241m=\u001b[39m kwds[\u001b[38;5;124m\"\u001b[39m\u001b[38;5;124mhas_index_names\u001b[39m\u001b[38;5;124m\"\u001b[39m]\n\u001b[1;32m   1619\u001b[0m \u001b[38;5;28mself\u001b[39m\u001b[38;5;241m.\u001b[39mhandles: IOHandles \u001b[38;5;241m|\u001b[39m \u001b[38;5;28;01mNone\u001b[39;00m \u001b[38;5;241m=\u001b[39m \u001b[38;5;28;01mNone\u001b[39;00m\n\u001b[0;32m-> 1620\u001b[0m \u001b[38;5;28mself\u001b[39m\u001b[38;5;241m.\u001b[39m_engine \u001b[38;5;241m=\u001b[39m \u001b[38;5;28;43mself\u001b[39;49m\u001b[38;5;241;43m.\u001b[39;49m\u001b[43m_make_engine\u001b[49m\u001b[43m(\u001b[49m\u001b[43mf\u001b[49m\u001b[43m,\u001b[49m\u001b[43m \u001b[49m\u001b[38;5;28;43mself\u001b[39;49m\u001b[38;5;241;43m.\u001b[39;49m\u001b[43mengine\u001b[49m\u001b[43m)\u001b[49m\n",
      "File \u001b[0;32m~/python-venvs/sktime/lib/python3.12/site-packages/pandas/io/parsers/readers.py:1880\u001b[0m, in \u001b[0;36mTextFileReader._make_engine\u001b[0;34m(self, f, engine)\u001b[0m\n\u001b[1;32m   1878\u001b[0m     \u001b[38;5;28;01mif\u001b[39;00m \u001b[38;5;124m\"\u001b[39m\u001b[38;5;124mb\u001b[39m\u001b[38;5;124m\"\u001b[39m \u001b[38;5;129;01mnot\u001b[39;00m \u001b[38;5;129;01min\u001b[39;00m mode:\n\u001b[1;32m   1879\u001b[0m         mode \u001b[38;5;241m+\u001b[39m\u001b[38;5;241m=\u001b[39m \u001b[38;5;124m\"\u001b[39m\u001b[38;5;124mb\u001b[39m\u001b[38;5;124m\"\u001b[39m\n\u001b[0;32m-> 1880\u001b[0m \u001b[38;5;28mself\u001b[39m\u001b[38;5;241m.\u001b[39mhandles \u001b[38;5;241m=\u001b[39m \u001b[43mget_handle\u001b[49m\u001b[43m(\u001b[49m\n\u001b[1;32m   1881\u001b[0m \u001b[43m    \u001b[49m\u001b[43mf\u001b[49m\u001b[43m,\u001b[49m\n\u001b[1;32m   1882\u001b[0m \u001b[43m    \u001b[49m\u001b[43mmode\u001b[49m\u001b[43m,\u001b[49m\n\u001b[1;32m   1883\u001b[0m \u001b[43m    \u001b[49m\u001b[43mencoding\u001b[49m\u001b[38;5;241;43m=\u001b[39;49m\u001b[38;5;28;43mself\u001b[39;49m\u001b[38;5;241;43m.\u001b[39;49m\u001b[43moptions\u001b[49m\u001b[38;5;241;43m.\u001b[39;49m\u001b[43mget\u001b[49m\u001b[43m(\u001b[49m\u001b[38;5;124;43m\"\u001b[39;49m\u001b[38;5;124;43mencoding\u001b[39;49m\u001b[38;5;124;43m\"\u001b[39;49m\u001b[43m,\u001b[49m\u001b[43m \u001b[49m\u001b[38;5;28;43;01mNone\u001b[39;49;00m\u001b[43m)\u001b[49m\u001b[43m,\u001b[49m\n\u001b[1;32m   1884\u001b[0m \u001b[43m    \u001b[49m\u001b[43mcompression\u001b[49m\u001b[38;5;241;43m=\u001b[39;49m\u001b[38;5;28;43mself\u001b[39;49m\u001b[38;5;241;43m.\u001b[39;49m\u001b[43moptions\u001b[49m\u001b[38;5;241;43m.\u001b[39;49m\u001b[43mget\u001b[49m\u001b[43m(\u001b[49m\u001b[38;5;124;43m\"\u001b[39;49m\u001b[38;5;124;43mcompression\u001b[39;49m\u001b[38;5;124;43m\"\u001b[39;49m\u001b[43m,\u001b[49m\u001b[43m \u001b[49m\u001b[38;5;28;43;01mNone\u001b[39;49;00m\u001b[43m)\u001b[49m\u001b[43m,\u001b[49m\n\u001b[1;32m   1885\u001b[0m \u001b[43m    \u001b[49m\u001b[43mmemory_map\u001b[49m\u001b[38;5;241;43m=\u001b[39;49m\u001b[38;5;28;43mself\u001b[39;49m\u001b[38;5;241;43m.\u001b[39;49m\u001b[43moptions\u001b[49m\u001b[38;5;241;43m.\u001b[39;49m\u001b[43mget\u001b[49m\u001b[43m(\u001b[49m\u001b[38;5;124;43m\"\u001b[39;49m\u001b[38;5;124;43mmemory_map\u001b[39;49m\u001b[38;5;124;43m\"\u001b[39;49m\u001b[43m,\u001b[49m\u001b[43m \u001b[49m\u001b[38;5;28;43;01mFalse\u001b[39;49;00m\u001b[43m)\u001b[49m\u001b[43m,\u001b[49m\n\u001b[1;32m   1886\u001b[0m \u001b[43m    \u001b[49m\u001b[43mis_text\u001b[49m\u001b[38;5;241;43m=\u001b[39;49m\u001b[43mis_text\u001b[49m\u001b[43m,\u001b[49m\n\u001b[1;32m   1887\u001b[0m \u001b[43m    \u001b[49m\u001b[43merrors\u001b[49m\u001b[38;5;241;43m=\u001b[39;49m\u001b[38;5;28;43mself\u001b[39;49m\u001b[38;5;241;43m.\u001b[39;49m\u001b[43moptions\u001b[49m\u001b[38;5;241;43m.\u001b[39;49m\u001b[43mget\u001b[49m\u001b[43m(\u001b[49m\u001b[38;5;124;43m\"\u001b[39;49m\u001b[38;5;124;43mencoding_errors\u001b[39;49m\u001b[38;5;124;43m\"\u001b[39;49m\u001b[43m,\u001b[49m\u001b[43m \u001b[49m\u001b[38;5;124;43m\"\u001b[39;49m\u001b[38;5;124;43mstrict\u001b[39;49m\u001b[38;5;124;43m\"\u001b[39;49m\u001b[43m)\u001b[49m\u001b[43m,\u001b[49m\n\u001b[1;32m   1888\u001b[0m \u001b[43m    \u001b[49m\u001b[43mstorage_options\u001b[49m\u001b[38;5;241;43m=\u001b[39;49m\u001b[38;5;28;43mself\u001b[39;49m\u001b[38;5;241;43m.\u001b[39;49m\u001b[43moptions\u001b[49m\u001b[38;5;241;43m.\u001b[39;49m\u001b[43mget\u001b[49m\u001b[43m(\u001b[49m\u001b[38;5;124;43m\"\u001b[39;49m\u001b[38;5;124;43mstorage_options\u001b[39;49m\u001b[38;5;124;43m\"\u001b[39;49m\u001b[43m,\u001b[49m\u001b[43m \u001b[49m\u001b[38;5;28;43;01mNone\u001b[39;49;00m\u001b[43m)\u001b[49m\u001b[43m,\u001b[49m\n\u001b[1;32m   1889\u001b[0m \u001b[43m\u001b[49m\u001b[43m)\u001b[49m\n\u001b[1;32m   1890\u001b[0m \u001b[38;5;28;01massert\u001b[39;00m \u001b[38;5;28mself\u001b[39m\u001b[38;5;241m.\u001b[39mhandles \u001b[38;5;129;01mis\u001b[39;00m \u001b[38;5;129;01mnot\u001b[39;00m \u001b[38;5;28;01mNone\u001b[39;00m\n\u001b[1;32m   1891\u001b[0m f \u001b[38;5;241m=\u001b[39m \u001b[38;5;28mself\u001b[39m\u001b[38;5;241m.\u001b[39mhandles\u001b[38;5;241m.\u001b[39mhandle\n",
      "File \u001b[0;32m~/python-venvs/sktime/lib/python3.12/site-packages/pandas/io/common.py:873\u001b[0m, in \u001b[0;36mget_handle\u001b[0;34m(path_or_buf, mode, encoding, compression, memory_map, is_text, errors, storage_options)\u001b[0m\n\u001b[1;32m    868\u001b[0m \u001b[38;5;28;01melif\u001b[39;00m \u001b[38;5;28misinstance\u001b[39m(handle, \u001b[38;5;28mstr\u001b[39m):\n\u001b[1;32m    869\u001b[0m     \u001b[38;5;66;03m# Check whether the filename is to be opened in binary mode.\u001b[39;00m\n\u001b[1;32m    870\u001b[0m     \u001b[38;5;66;03m# Binary mode does not support 'encoding' and 'newline'.\u001b[39;00m\n\u001b[1;32m    871\u001b[0m     \u001b[38;5;28;01mif\u001b[39;00m ioargs\u001b[38;5;241m.\u001b[39mencoding \u001b[38;5;129;01mand\u001b[39;00m \u001b[38;5;124m\"\u001b[39m\u001b[38;5;124mb\u001b[39m\u001b[38;5;124m\"\u001b[39m \u001b[38;5;129;01mnot\u001b[39;00m \u001b[38;5;129;01min\u001b[39;00m ioargs\u001b[38;5;241m.\u001b[39mmode:\n\u001b[1;32m    872\u001b[0m         \u001b[38;5;66;03m# Encoding\u001b[39;00m\n\u001b[0;32m--> 873\u001b[0m         handle \u001b[38;5;241m=\u001b[39m \u001b[38;5;28;43mopen\u001b[39;49m\u001b[43m(\u001b[49m\n\u001b[1;32m    874\u001b[0m \u001b[43m            \u001b[49m\u001b[43mhandle\u001b[49m\u001b[43m,\u001b[49m\n\u001b[1;32m    875\u001b[0m \u001b[43m            \u001b[49m\u001b[43mioargs\u001b[49m\u001b[38;5;241;43m.\u001b[39;49m\u001b[43mmode\u001b[49m\u001b[43m,\u001b[49m\n\u001b[1;32m    876\u001b[0m \u001b[43m            \u001b[49m\u001b[43mencoding\u001b[49m\u001b[38;5;241;43m=\u001b[39;49m\u001b[43mioargs\u001b[49m\u001b[38;5;241;43m.\u001b[39;49m\u001b[43mencoding\u001b[49m\u001b[43m,\u001b[49m\n\u001b[1;32m    877\u001b[0m \u001b[43m            \u001b[49m\u001b[43merrors\u001b[49m\u001b[38;5;241;43m=\u001b[39;49m\u001b[43merrors\u001b[49m\u001b[43m,\u001b[49m\n\u001b[1;32m    878\u001b[0m \u001b[43m            \u001b[49m\u001b[43mnewline\u001b[49m\u001b[38;5;241;43m=\u001b[39;49m\u001b[38;5;124;43m\"\u001b[39;49m\u001b[38;5;124;43m\"\u001b[39;49m\u001b[43m,\u001b[49m\n\u001b[1;32m    879\u001b[0m \u001b[43m        \u001b[49m\u001b[43m)\u001b[49m\n\u001b[1;32m    880\u001b[0m     \u001b[38;5;28;01melse\u001b[39;00m:\n\u001b[1;32m    881\u001b[0m         \u001b[38;5;66;03m# Binary mode\u001b[39;00m\n\u001b[1;32m    882\u001b[0m         handle \u001b[38;5;241m=\u001b[39m \u001b[38;5;28mopen\u001b[39m(handle, ioargs\u001b[38;5;241m.\u001b[39mmode)\n",
      "\u001b[0;31mFileNotFoundError\u001b[0m: [Errno 2] No such file or directory: '/home/jharbin/academic/soprano/SPworkerTemp/notebooks/predictor/temp-data/train/Test_001_18_01_2024_05_28_25.csv'"
     ]
    }
   ],
   "source": [
    "needed_columns = ['dosAttackTrigger', 'distortBaseScanPMB2', 'distortBaseScanOmni', 'distortBaseScanTiago', 'packetLossLaserScanOmni', 'packetLossLaserScanPMB2', 'packetLossLaserScanTiago', 'delayBaseScanOmni', 'delayBaseScanPMB2', 'delayBaseScanTiago1']\n",
    "create_combined_data(\"/home/jharbin/academic/soprano/SPworkerTemp/notebooks/predictor/temp-data/train\", [\"Test_001_18_01_2024_05_28_25.csv\"], needed_columns)\n"
   ]
  },
  {
   "cell_type": "code",
   "execution_count": 104,
   "id": "7319a7de",
   "metadata": {},
   "outputs": [],
   "source": [
    "def find_data_in_dir(csv_directory_train, csv_directory_test, train_split_num):\n",
    "    files_train = os.listdir(csv_directory_train)\n",
    "    files_test = os.listdir(csv_directory_test)\n",
    "    return files_train, files_test"
   ]
  },
  {
   "cell_type": "code",
   "execution_count": 105,
   "id": "bf4dd95c",
   "metadata": {},
   "outputs": [
    {
     "data": {
      "text/plain": [
       "1.0"
      ]
     },
     "execution_count": 105,
     "metadata": {},
     "output_type": "execute_result"
    }
   ],
   "source": [
    "m = 3\n",
    "np.floor(m / 2)"
   ]
  },
  {
   "cell_type": "code",
   "execution_count": 174,
   "id": "e273ff06",
   "metadata": {},
   "outputs": [],
   "source": [
    "def single_metric_value(m):\n",
    "    f = np.floor(m/2)\n",
    "    if (f < 0):\n",
    "        return 0.0\n",
    "    else:\n",
    "        return f"
   ]
  },
  {
   "cell_type": "code",
   "execution_count": 175,
   "id": "d7d4908a",
   "metadata": {},
   "outputs": [],
   "source": [
    "def metrics_map_to_class(metrics):\n",
    "      return np.array([single_metric_value(v) for v in metrics])"
   ]
  },
  {
   "cell_type": "code",
   "execution_count": 176,
   "id": "0d161a59",
   "metadata": {},
   "outputs": [
    {
     "data": {
      "text/plain": [
       "array([1., 0., 0., 0., 0., 0., 1., 0., 0., 1., 0., 0., 0., 0., 0., 0., 0.,\n",
       "       0., 0., 0., 1., 0., 1., 0., 0., 0., 0., 0., 0., 0., 0., 0., 0., 0.,\n",
       "       0., 0., 0., 0., 1., 0., 0., 0., 0., 1., 0., 0., 0., 0., 0., 0., 2.,\n",
       "       1., 0., 0., 0., 0., 0., 0., 0., 0., 0., 0., 0., 0., 0., 0., 0., 0.,\n",
       "       0., 0., 0., 0., 0., 1., 0., 1., 0., 1., 1., 0., 0., 0., 0., 0., 0.,\n",
       "       0., 0., 0., 0., 0., 0., 1., 0., 0., 0., 0., 1., 0., 0., 0., 0., 1.,\n",
       "       0., 0., 0., 0., 0., 0., 0., 1., 0., 0., 0., 0., 0., 0., 1., 0., 0.,\n",
       "       0., 0., 0., 0., 0., 0., 0., 0., 1., 1., 0., 0., 0., 0., 0., 1., 0.,\n",
       "       1., 1., 0., 0., 0., 0., 0., 0., 0., 0., 1., 1., 0., 1., 0., 0., 1.,\n",
       "       0., 0., 0., 0., 1., 0., 0., 0., 0., 0., 0., 0., 0., 0., 1., 0., 0.,\n",
       "       0., 1., 1., 1., 0., 0., 0., 1., 2., 1., 0., 0., 0., 2., 0., 0., 0.,\n",
       "       0., 0., 0., 1., 0., 0., 0., 0., 0., 1., 0., 1., 0., 0., 0., 0., 0.,\n",
       "       0., 1., 1., 0., 0., 2., 0., 0., 0., 0., 0., 0., 0., 0., 0., 0., 0.,\n",
       "       0., 0., 0., 1., 0., 1., 0., 0., 0., 0., 0., 0., 0., 0., 0., 0., 0.,\n",
       "       0., 0., 0., 0., 0., 0., 1., 0., 0., 0., 0., 0., 0., 0., 0., 0., 0.,\n",
       "       0., 0., 0., 1., 0., 1., 0., 0., 0., 0., 0., 0., 1., 0., 1., 0., 0.,\n",
       "       0., 0., 0., 0., 0., 0., 0., 0., 0., 0., 0., 0., 0., 1., 0., 0., 1.,\n",
       "       0., 0., 0., 0., 0., 0., 0., 1., 0., 1., 2., 0., 0., 0., 0., 0., 0.,\n",
       "       0., 0., 0., 1., 0., 0., 0., 1., 0., 1., 0., 0., 0., 0.])"
      ]
     },
     "execution_count": 176,
     "metadata": {},
     "output_type": "execute_result"
    }
   ],
   "source": [
    "dat = pd.read_csv(\"/home/jharbin/academic/soprano/SPWorkerTemp/notebooks/predictor/temp-data/metrics-train.csv\")[\"M1_countObjectsMissed\"]\n",
    "metrics_map_to_class(dat)"
   ]
  },
  {
   "cell_type": "code",
   "execution_count": 177,
   "id": "5c6f5c4d",
   "metadata": {},
   "outputs": [
    {
     "data": {
      "text/plain": [
       "[0.0, 0.0, 1.0, 1.0, 2.0, 2.0, 3.0]"
      ]
     },
     "execution_count": 177,
     "metadata": {},
     "output_type": "execute_result"
    }
   ],
   "source": [
    "metric_map_to_class(np.arange(0,7))"
   ]
  },
  {
   "cell_type": "code",
   "execution_count": 178,
   "id": "26477e90",
   "metadata": {},
   "outputs": [],
   "source": [
    "def rocket_complete(csv_directory_train, csv_directory_test, train_mfile, test_mfile, train_split_num, needed_columns, num_kernels):\n",
    "    files_train = os.listdir(csv_directory_train)\n",
    "    files_test = os.listdir(csv_directory_test)\n",
    "    train_data = create_combined_data(csv_directory_train, files_train, needed_columns)\n",
    "    test_data = create_combined_data(csv_directory_test, files_test, needed_columns)\n",
    "    train_metrics = pd.read_csv(train_mfile)\n",
    "    test_metrics = pd.read_csv(test_mfile)\n",
    "    train_class = metrics_map_to_class(train_metrics[\"M1_countObjectsMissed\"])\n",
    "    test_class = metric_map_to_class(test_metrics[\"M1_countObjectsMissed\"])\n",
    "    \n",
    "    for d in train_data:\n",
    "        print(\"Shape:\", d.shape)\n",
    "    rocket_pipeline_classifier = make_pipeline(Rocket(num_kernels=num_kernels), RidgeClassifierCV(alphas=np.logspace(-3, 3, 10)))\n",
    "    rocket_pipeline = make_pipeline(Rocket(num_kernels=num_kernels), RidgeCV(alphas=(0.1, 1.0, 10.0)))\n",
    "    \n",
    "    #rocket_pipeline.fit(train_data, train_metrics)\n",
    "    #print(\"ROCKET fit done!\")\n",
    "    #score = rocket_pipeline.score(test_data, test_metrics)\n",
    "    #print(\"Score on test data = \",score)\n",
    "    #print(\"ROCKET score done!\")\n",
    "    \n",
    "    rocket_pipeline_classifier.fit(train_data, train_class)\n",
    "    print(\"ROCKET classifier fit done!\")\n",
    "    score = rocket_pipeline_classifier.score(test_data, test_class)\n",
    "    print(\"Score on test data = \",score)\n",
    "    print(\"ROCKET classifier score done!\")\n",
    "    return rocket_pipeline_classifier\n",
    "    "
   ]
  },
  {
   "cell_type": "code",
   "execution_count": 179,
   "id": "21fb7374-186e-41ed-9109-1d1304d5baa3",
   "metadata": {},
   "outputs": [],
   "source": [
    "def rocket_only(csv_directory_train, csv_directory_test, train_mfile, test_mfile, train_split_num, needed_columns, num_kernels):\n",
    "    files_train = os.listdir(csv_directory_train)\n",
    "    files_test = os.listdir(csv_directory_test)\n",
    "    train_data = create_combined_data(csv_directory_train, files_train, needed_columns)\n",
    "    test_data = create_combined_data(csv_directory_test, files_test, needed_columns)\n",
    "    train_metrics = pd.read_csv(train_mfile)\n",
    "    test_metrics = pd.read_csv(test_mfile)\n",
    "    for d in train_data:\n",
    "        print(\"Shape:\", d.shape)\n",
    "    rocket_partial = Rocket(num_kernels=num_kernels)\n",
    "    rocket_partial.fit(train_data, train_metrics)\n",
    "    return rocket_partial.transform(train_data)\n"
   ]
  },
  {
   "cell_type": "code",
   "execution_count": 184,
   "id": "788b48a9",
   "metadata": {},
   "outputs": [],
   "source": [
    "split_num = 320\n",
    "num_ops = 4\n",
    "num_kernels = 1000"
   ]
  },
  {
   "cell_type": "code",
   "execution_count": 186,
   "id": "7019213b",
   "metadata": {
    "scrolled": true
   },
   "outputs": [
    {
     "name": "stdout",
     "output_type": "stream",
     "text": [
      "Check data:  True\n",
      "Check data:  True\n",
      "Shape: (500, 10)\n",
      "Shape: (500, 10)\n",
      "Shape: (500, 10)\n",
      "Shape: (500, 10)\n",
      "Shape: (500, 10)\n",
      "Shape: (500, 10)\n",
      "Shape: (500, 10)\n",
      "Shape: (500, 10)\n",
      "Shape: (500, 10)\n",
      "Shape: (500, 10)\n",
      "Shape: (500, 10)\n",
      "Shape: (500, 10)\n",
      "Shape: (500, 10)\n",
      "Shape: (500, 10)\n",
      "Shape: (500, 10)\n",
      "Shape: (500, 10)\n",
      "Shape: (500, 10)\n",
      "Shape: (500, 10)\n",
      "Shape: (500, 10)\n",
      "Shape: (500, 10)\n",
      "Shape: (500, 10)\n",
      "Shape: (500, 10)\n",
      "Shape: (500, 10)\n",
      "Shape: (500, 10)\n",
      "Shape: (500, 10)\n",
      "Shape: (500, 10)\n",
      "Shape: (500, 10)\n",
      "Shape: (500, 10)\n",
      "Shape: (500, 10)\n",
      "Shape: (500, 10)\n",
      "Shape: (500, 10)\n",
      "Shape: (500, 10)\n",
      "Shape: (500, 10)\n",
      "Shape: (500, 10)\n",
      "Shape: (500, 10)\n",
      "Shape: (500, 10)\n",
      "Shape: (500, 10)\n",
      "Shape: (500, 10)\n",
      "Shape: (500, 10)\n",
      "Shape: (500, 10)\n",
      "Shape: (500, 10)\n",
      "Shape: (500, 10)\n",
      "Shape: (500, 10)\n",
      "Shape: (500, 10)\n",
      "Shape: (500, 10)\n",
      "Shape: (500, 10)\n",
      "Shape: (500, 10)\n",
      "Shape: (500, 10)\n",
      "Shape: (500, 10)\n",
      "Shape: (500, 10)\n",
      "Shape: (500, 10)\n",
      "Shape: (500, 10)\n",
      "Shape: (500, 10)\n",
      "Shape: (500, 10)\n",
      "Shape: (500, 10)\n",
      "Shape: (500, 10)\n",
      "Shape: (500, 10)\n",
      "Shape: (500, 10)\n",
      "Shape: (500, 10)\n",
      "Shape: (500, 10)\n",
      "Shape: (500, 10)\n",
      "Shape: (500, 10)\n",
      "Shape: (500, 10)\n",
      "Shape: (500, 10)\n",
      "Shape: (500, 10)\n",
      "Shape: (500, 10)\n",
      "Shape: (500, 10)\n",
      "Shape: (500, 10)\n",
      "Shape: (500, 10)\n",
      "Shape: (500, 10)\n",
      "Shape: (500, 10)\n",
      "Shape: (500, 10)\n",
      "Shape: (500, 10)\n",
      "Shape: (500, 10)\n",
      "Shape: (500, 10)\n",
      "Shape: (500, 10)\n",
      "Shape: (500, 10)\n",
      "Shape: (500, 10)\n",
      "Shape: (500, 10)\n",
      "Shape: (500, 10)\n",
      "Shape: (500, 10)\n",
      "Shape: (500, 10)\n",
      "Shape: (500, 10)\n",
      "Shape: (500, 10)\n",
      "Shape: (500, 10)\n",
      "Shape: (500, 10)\n",
      "Shape: (500, 10)\n",
      "Shape: (500, 10)\n",
      "Shape: (500, 10)\n",
      "Shape: (500, 10)\n",
      "Shape: (500, 10)\n",
      "Shape: (500, 10)\n",
      "Shape: (500, 10)\n",
      "Shape: (500, 10)\n",
      "Shape: (500, 10)\n",
      "Shape: (500, 10)\n",
      "Shape: (500, 10)\n",
      "Shape: (500, 10)\n",
      "Shape: (500, 10)\n",
      "Shape: (500, 10)\n",
      "Shape: (500, 10)\n",
      "Shape: (500, 10)\n",
      "Shape: (500, 10)\n",
      "Shape: (500, 10)\n",
      "Shape: (500, 10)\n",
      "Shape: (500, 10)\n",
      "Shape: (500, 10)\n",
      "Shape: (500, 10)\n",
      "Shape: (500, 10)\n",
      "Shape: (500, 10)\n",
      "Shape: (500, 10)\n",
      "Shape: (500, 10)\n",
      "Shape: (500, 10)\n",
      "Shape: (500, 10)\n",
      "Shape: (500, 10)\n",
      "Shape: (500, 10)\n",
      "Shape: (500, 10)\n",
      "Shape: (500, 10)\n",
      "Shape: (500, 10)\n",
      "Shape: (500, 10)\n",
      "Shape: (500, 10)\n",
      "Shape: (500, 10)\n",
      "Shape: (500, 10)\n",
      "Shape: (500, 10)\n",
      "Shape: (500, 10)\n",
      "Shape: (500, 10)\n",
      "Shape: (500, 10)\n",
      "Shape: (500, 10)\n",
      "Shape: (500, 10)\n",
      "Shape: (500, 10)\n",
      "Shape: (500, 10)\n",
      "Shape: (500, 10)\n",
      "Shape: (500, 10)\n",
      "Shape: (500, 10)\n",
      "Shape: (500, 10)\n",
      "Shape: (500, 10)\n",
      "Shape: (500, 10)\n",
      "Shape: (500, 10)\n",
      "Shape: (500, 10)\n",
      "Shape: (500, 10)\n",
      "Shape: (500, 10)\n",
      "Shape: (500, 10)\n",
      "Shape: (500, 10)\n",
      "Shape: (500, 10)\n",
      "Shape: (500, 10)\n",
      "Shape: (500, 10)\n",
      "Shape: (500, 10)\n",
      "Shape: (500, 10)\n",
      "Shape: (500, 10)\n",
      "Shape: (500, 10)\n",
      "Shape: (500, 10)\n",
      "Shape: (500, 10)\n",
      "Shape: (500, 10)\n",
      "Shape: (500, 10)\n",
      "Shape: (500, 10)\n",
      "Shape: (500, 10)\n",
      "Shape: (500, 10)\n",
      "Shape: (500, 10)\n",
      "Shape: (500, 10)\n",
      "Shape: (500, 10)\n",
      "Shape: (500, 10)\n",
      "Shape: (500, 10)\n",
      "Shape: (500, 10)\n",
      "Shape: (500, 10)\n",
      "Shape: (500, 10)\n",
      "Shape: (500, 10)\n",
      "Shape: (500, 10)\n",
      "Shape: (500, 10)\n",
      "Shape: (500, 10)\n",
      "Shape: (500, 10)\n",
      "Shape: (500, 10)\n",
      "Shape: (500, 10)\n",
      "Shape: (500, 10)\n",
      "Shape: (500, 10)\n",
      "Shape: (500, 10)\n",
      "Shape: (500, 10)\n",
      "Shape: (500, 10)\n",
      "Shape: (500, 10)\n",
      "Shape: (500, 10)\n",
      "Shape: (500, 10)\n",
      "Shape: (500, 10)\n",
      "Shape: (500, 10)\n",
      "Shape: (500, 10)\n",
      "Shape: (500, 10)\n",
      "Shape: (500, 10)\n",
      "Shape: (500, 10)\n",
      "Shape: (500, 10)\n",
      "Shape: (500, 10)\n",
      "Shape: (500, 10)\n",
      "Shape: (500, 10)\n",
      "Shape: (500, 10)\n",
      "Shape: (500, 10)\n",
      "Shape: (500, 10)\n",
      "Shape: (500, 10)\n",
      "Shape: (500, 10)\n",
      "Shape: (500, 10)\n",
      "Shape: (500, 10)\n",
      "Shape: (500, 10)\n",
      "Shape: (500, 10)\n",
      "Shape: (500, 10)\n",
      "Shape: (500, 10)\n",
      "Shape: (500, 10)\n",
      "Shape: (500, 10)\n",
      "Shape: (500, 10)\n",
      "Shape: (500, 10)\n",
      "Shape: (500, 10)\n",
      "Shape: (500, 10)\n",
      "Shape: (500, 10)\n",
      "Shape: (500, 10)\n",
      "Shape: (500, 10)\n",
      "Shape: (500, 10)\n",
      "Shape: (500, 10)\n",
      "Shape: (500, 10)\n",
      "Shape: (500, 10)\n",
      "Shape: (500, 10)\n",
      "Shape: (500, 10)\n",
      "Shape: (500, 10)\n",
      "Shape: (500, 10)\n",
      "Shape: (500, 10)\n",
      "Shape: (500, 10)\n",
      "Shape: (500, 10)\n",
      "Shape: (500, 10)\n",
      "Shape: (500, 10)\n",
      "Shape: (500, 10)\n",
      "Shape: (500, 10)\n",
      "Shape: (500, 10)\n",
      "Shape: (500, 10)\n",
      "Shape: (500, 10)\n",
      "Shape: (500, 10)\n",
      "Shape: (500, 10)\n",
      "Shape: (500, 10)\n",
      "Shape: (500, 10)\n",
      "Shape: (500, 10)\n",
      "Shape: (500, 10)\n",
      "Shape: (500, 10)\n",
      "Shape: (500, 10)\n",
      "Shape: (500, 10)\n",
      "Shape: (500, 10)\n",
      "Shape: (500, 10)\n",
      "Shape: (500, 10)\n",
      "Shape: (500, 10)\n",
      "Shape: (500, 10)\n",
      "Shape: (500, 10)\n",
      "Shape: (500, 10)\n",
      "Shape: (500, 10)\n",
      "Shape: (500, 10)\n",
      "Shape: (500, 10)\n",
      "Shape: (500, 10)\n",
      "Shape: (500, 10)\n",
      "Shape: (500, 10)\n",
      "Shape: (500, 10)\n",
      "Shape: (500, 10)\n",
      "Shape: (500, 10)\n",
      "Shape: (500, 10)\n",
      "Shape: (500, 10)\n",
      "Shape: (500, 10)\n",
      "Shape: (500, 10)\n",
      "Shape: (500, 10)\n",
      "Shape: (500, 10)\n",
      "Shape: (500, 10)\n",
      "Shape: (500, 10)\n",
      "Shape: (500, 10)\n",
      "Shape: (500, 10)\n",
      "Shape: (500, 10)\n",
      "Shape: (500, 10)\n",
      "Shape: (500, 10)\n",
      "Shape: (500, 10)\n",
      "Shape: (500, 10)\n",
      "Shape: (500, 10)\n",
      "Shape: (500, 10)\n",
      "Shape: (500, 10)\n",
      "Shape: (500, 10)\n",
      "Shape: (500, 10)\n",
      "Shape: (500, 10)\n",
      "Shape: (500, 10)\n",
      "Shape: (500, 10)\n",
      "Shape: (500, 10)\n",
      "Shape: (500, 10)\n",
      "Shape: (500, 10)\n",
      "Shape: (500, 10)\n",
      "Shape: (500, 10)\n",
      "Shape: (500, 10)\n",
      "Shape: (500, 10)\n",
      "Shape: (500, 10)\n",
      "Shape: (500, 10)\n",
      "Shape: (500, 10)\n",
      "Shape: (500, 10)\n",
      "Shape: (500, 10)\n",
      "Shape: (500, 10)\n",
      "Shape: (500, 10)\n",
      "Shape: (500, 10)\n",
      "Shape: (500, 10)\n",
      "Shape: (500, 10)\n",
      "Shape: (500, 10)\n",
      "Shape: (500, 10)\n",
      "Shape: (500, 10)\n",
      "Shape: (500, 10)\n",
      "Shape: (500, 10)\n",
      "Shape: (500, 10)\n",
      "Shape: (500, 10)\n",
      "Shape: (500, 10)\n",
      "Shape: (500, 10)\n",
      "Shape: (500, 10)\n",
      "Shape: (500, 10)\n",
      "Shape: (500, 10)\n",
      "Shape: (500, 10)\n",
      "Shape: (500, 10)\n",
      "Shape: (500, 10)\n",
      "Shape: (500, 10)\n",
      "Shape: (500, 10)\n",
      "Shape: (500, 10)\n",
      "Shape: (500, 10)\n",
      "Shape: (500, 10)\n",
      "Shape: (500, 10)\n",
      "Shape: (500, 10)\n",
      "Shape: (500, 10)\n",
      "Shape: (500, 10)\n",
      "Shape: (500, 10)\n",
      "Shape: (500, 10)\n",
      "Shape: (500, 10)\n",
      "ROCKET classifier fit done!\n",
      "Score on test data =  0.775\n",
      "ROCKET classifier score done!\n"
     ]
    },
    {
     "data": {
      "text/html": [
       "<style>#sk-99efffe5-5bea-45b8-90c4-26eb9bffbb0e {color: black;background-color: white;}#sk-99efffe5-5bea-45b8-90c4-26eb9bffbb0e pre{padding: 0;}#sk-99efffe5-5bea-45b8-90c4-26eb9bffbb0e div.sk-toggleable {background-color: white;}#sk-99efffe5-5bea-45b8-90c4-26eb9bffbb0e label.sk-toggleable__label {cursor: pointer;display: block;width: 100%;margin-bottom: 0;padding: 0.3em;box-sizing: border-box;text-align: center;}#sk-99efffe5-5bea-45b8-90c4-26eb9bffbb0e label.sk-toggleable__label-arrow:before {content: \"▸\";float: left;margin-right: 0.25em;color: #696969;}#sk-99efffe5-5bea-45b8-90c4-26eb9bffbb0e label.sk-toggleable__label-arrow:hover:before {color: black;}#sk-99efffe5-5bea-45b8-90c4-26eb9bffbb0e div.sk-estimator:hover label.sk-toggleable__label-arrow:before {color: black;}#sk-99efffe5-5bea-45b8-90c4-26eb9bffbb0e div.sk-toggleable__content {max-height: 0;max-width: 0;overflow: hidden;text-align: left;background-color: #f0f8ff;}#sk-99efffe5-5bea-45b8-90c4-26eb9bffbb0e div.sk-toggleable__content pre {margin: 0.2em;color: black;border-radius: 0.25em;background-color: #f0f8ff;}#sk-99efffe5-5bea-45b8-90c4-26eb9bffbb0e input.sk-toggleable__control:checked~div.sk-toggleable__content {max-height: 200px;max-width: 100%;overflow: auto;}#sk-99efffe5-5bea-45b8-90c4-26eb9bffbb0e input.sk-toggleable__control:checked~label.sk-toggleable__label-arrow:before {content: \"▾\";}#sk-99efffe5-5bea-45b8-90c4-26eb9bffbb0e div.sk-estimator input.sk-toggleable__control:checked~label.sk-toggleable__label {background-color: #d4ebff;}#sk-99efffe5-5bea-45b8-90c4-26eb9bffbb0e div.sk-label input.sk-toggleable__control:checked~label.sk-toggleable__label {background-color: #d4ebff;}#sk-99efffe5-5bea-45b8-90c4-26eb9bffbb0e input.sk-hidden--visually {border: 0;clip: rect(1px 1px 1px 1px);clip: rect(1px, 1px, 1px, 1px);height: 1px;margin: -1px;overflow: hidden;padding: 0;position: absolute;width: 1px;}#sk-99efffe5-5bea-45b8-90c4-26eb9bffbb0e div.sk-estimator {font-family: monospace;background-color: #f0f8ff;border: 1px dotted black;border-radius: 0.25em;box-sizing: border-box;margin-bottom: 0.5em;}#sk-99efffe5-5bea-45b8-90c4-26eb9bffbb0e div.sk-estimator:hover {background-color: #d4ebff;}#sk-99efffe5-5bea-45b8-90c4-26eb9bffbb0e div.sk-parallel-item::after {content: \"\";width: 100%;border-bottom: 1px solid gray;flex-grow: 1;}#sk-99efffe5-5bea-45b8-90c4-26eb9bffbb0e div.sk-label:hover label.sk-toggleable__label {background-color: #d4ebff;}#sk-99efffe5-5bea-45b8-90c4-26eb9bffbb0e div.sk-serial::before {content: \"\";position: absolute;border-left: 1px solid gray;box-sizing: border-box;top: 2em;bottom: 0;left: 50%;}#sk-99efffe5-5bea-45b8-90c4-26eb9bffbb0e div.sk-serial {display: flex;flex-direction: column;align-items: center;background-color: white;padding-right: 0.2em;padding-left: 0.2em;}#sk-99efffe5-5bea-45b8-90c4-26eb9bffbb0e div.sk-item {z-index: 1;}#sk-99efffe5-5bea-45b8-90c4-26eb9bffbb0e div.sk-parallel {display: flex;align-items: stretch;justify-content: center;background-color: white;}#sk-99efffe5-5bea-45b8-90c4-26eb9bffbb0e div.sk-parallel::before {content: \"\";position: absolute;border-left: 1px solid gray;box-sizing: border-box;top: 2em;bottom: 0;left: 50%;}#sk-99efffe5-5bea-45b8-90c4-26eb9bffbb0e div.sk-parallel-item {display: flex;flex-direction: column;position: relative;background-color: white;}#sk-99efffe5-5bea-45b8-90c4-26eb9bffbb0e div.sk-parallel-item:first-child::after {align-self: flex-end;width: 50%;}#sk-99efffe5-5bea-45b8-90c4-26eb9bffbb0e div.sk-parallel-item:last-child::after {align-self: flex-start;width: 50%;}#sk-99efffe5-5bea-45b8-90c4-26eb9bffbb0e div.sk-parallel-item:only-child::after {width: 0;}#sk-99efffe5-5bea-45b8-90c4-26eb9bffbb0e div.sk-dashed-wrapped {border: 1px dashed gray;margin: 0 0.4em 0.5em 0.4em;box-sizing: border-box;padding-bottom: 0.4em;background-color: white;position: relative;}#sk-99efffe5-5bea-45b8-90c4-26eb9bffbb0e div.sk-label label {font-family: monospace;font-weight: bold;background-color: white;display: inline-block;line-height: 1.2em;}#sk-99efffe5-5bea-45b8-90c4-26eb9bffbb0e div.sk-label-container {position: relative;z-index: 2;text-align: center;}#sk-99efffe5-5bea-45b8-90c4-26eb9bffbb0e div.sk-container {/* jupyter's `normalize.less` sets `[hidden] { display: none; }` but bootstrap.min.css set `[hidden] { display: none !important; }` so we also need the `!important` here to be able to override the default hidden behavior on the sphinx rendered scikit-learn.org. See: https://github.com/scikit-learn/scikit-learn/issues/21755 */display: inline-block !important;position: relative;}#sk-99efffe5-5bea-45b8-90c4-26eb9bffbb0e div.sk-text-repr-fallback {display: none;}</style><div id='sk-99efffe5-5bea-45b8-90c4-26eb9bffbb0e' class=\"sk-top-container\"><div class=\"sk-text-repr-fallback\"><pre>SklearnClassifierPipeline(classifier=RidgeClassifierCV(alphas=array([1.00000000e-03, 4.64158883e-03, 2.15443469e-02, 1.00000000e-01,\n",
       "       4.64158883e-01, 2.15443469e+00, 1.00000000e+01, 4.64158883e+01,\n",
       "       2.15443469e+02, 1.00000000e+03])),\n",
       "                          transformers=[Rocket(num_kernels=1000)])</pre><b>Please rerun this cell to show the HTML repr or trust the notebook.</b></div><div class=\"sk-container\" hidden><div class=\"sk-item sk-dashed-wrapped\"><div class='sk-label-container'><div class=\"sk-label sk-toggleable\"><input class=\"sk-toggleable__control sk-hidden--visually\" id=UUID('1e42fbac-8b06-4160-a872-af99ec3a1025') type=\"checkbox\" ><label for=UUID('1e42fbac-8b06-4160-a872-af99ec3a1025') class='sk-toggleable__label sk-toggleable__label-arrow'>SklearnClassifierPipeline</label><div class=\"sk-toggleable__content\"><pre>SklearnClassifierPipeline(classifier=RidgeClassifierCV(alphas=array([1.00000000e-03, 4.64158883e-03, 2.15443469e-02, 1.00000000e-01,\n",
       "       4.64158883e-01, 2.15443469e+00, 1.00000000e+01, 4.64158883e+01,\n",
       "       2.15443469e+02, 1.00000000e+03])),\n",
       "                          transformers=[Rocket(num_kernels=1000)])</pre></div></div></div><div class=\"sk-parallel\"><div class=\"sk-parallel-item\"><div class=\"sk-item\"><div class=\"sk-serial\"><div class='sk-item'><div class=\"sk-estimator sk-toggleable\"><input class=\"sk-toggleable__control sk-hidden--visually\" id=UUID('64978630-99c6-47bf-9382-a2643bdd7053') type=\"checkbox\" ><label for=UUID('64978630-99c6-47bf-9382-a2643bdd7053') class='sk-toggleable__label sk-toggleable__label-arrow'>RidgeClassifierCV</label><div class=\"sk-toggleable__content\"><pre>RidgeClassifierCV(alphas=array([1.00000000e-03, 4.64158883e-03, 2.15443469e-02, 1.00000000e-01,\n",
       "       4.64158883e-01, 2.15443469e+00, 1.00000000e+01, 4.64158883e+01,\n",
       "       2.15443469e+02, 1.00000000e+03]))</pre></div></div></div></div></div></div><div class=\"sk-parallel-item\"><div class=\"sk-item\"><div class=\"sk-serial\"><div class='sk-item'><div class=\"sk-estimator sk-toggleable\"><input class=\"sk-toggleable__control sk-hidden--visually\" id=UUID('e5fad548-6a61-4012-b8f7-65e1f0a8ed03') type=\"checkbox\" ><label for=UUID('e5fad548-6a61-4012-b8f7-65e1f0a8ed03') class='sk-toggleable__label sk-toggleable__label-arrow'>Rocket</label><div class=\"sk-toggleable__content\"><pre>Rocket(num_kernels=1000)</pre></div></div></div></div></div></div></div></div></div></div>"
      ],
      "text/plain": [
       "SklearnClassifierPipeline(classifier=RidgeClassifierCV(alphas=array([1.00000000e-03, 4.64158883e-03, 2.15443469e-02, 1.00000000e-01,\n",
       "       4.64158883e-01, 2.15443469e+00, 1.00000000e+01, 4.64158883e+01,\n",
       "       2.15443469e+02, 1.00000000e+03])),\n",
       "                          transformers=[Rocket(num_kernels=1000)])"
      ]
     },
     "execution_count": 186,
     "metadata": {},
     "output_type": "execute_result"
    }
   ],
   "source": [
    "data_base = \"/home/jharbin/academic/soprano/SPWorkerTemp/notebooks/predictor/temp-data/\"\n",
    "csv_directory_train = data_base + \"/train\"\n",
    "csv_directory_test = data_base + \"/test\"\n",
    "mfile_train = data_base + \"metrics-train.csv\"\n",
    "mfile_test = data_base + \"metrics-test.csv\"\n",
    "\n",
    "needed_columns = ['dosAttackTrigger', 'distortBaseScanPMB2', 'distortBaseScanOmni', 'distortBaseScanTiago', 'packetLossLaserScanOmni', 'packetLossLaserScanPMB2', 'packetLossLaserScanTiago', 'delayBaseScanOmni', 'delayBaseScanPMB2', 'delayBaseScanTiago1']\n",
    "classifier = rocket_complete(csv_directory_train, csv_directory_test, mfile_train, mfile_test, split_num, needed_columns, num_kernels)\n",
    "classifier\n",
    "#test_data = create_combined_data(csv_directory_test, files_test, needed_columns)"
   ]
  },
  {
   "cell_type": "code",
   "execution_count": 193,
   "id": "dbedf740",
   "metadata": {},
   "outputs": [
    {
     "data": {
      "text/plain": [
       "'/home/jharbin/academic/soprano/SPWorkerTemp/notebooks/predictor/temp-data//train'"
      ]
     },
     "execution_count": 193,
     "metadata": {},
     "output_type": "execute_result"
    }
   ],
   "source": [
    "csv_directory_train"
   ]
  },
  {
   "cell_type": "code",
   "execution_count": 194,
   "id": "c771e611",
   "metadata": {},
   "outputs": [],
   "source": []
  },
  {
   "cell_type": "code",
   "execution_count": 200,
   "id": "ebe7a282",
   "metadata": {},
   "outputs": [
    {
     "name": "stdout",
     "output_type": "stream",
     "text": [
      "Check data:  True\n"
     ]
    },
    {
     "data": {
      "text/plain": [
       "True"
      ]
     },
     "execution_count": 200,
     "metadata": {},
     "output_type": "execute_result"
    }
   ],
   "source": [
    "files_test = os.listdir(csv_directory_test)\n",
    "test_data = create_combined_data(csv_directory_test, files_test, needed_columns)\n",
    "zzz = [test_data[0]]\n",
    "check_raise(zzz, mtype=\"df-list\")"
   ]
  },
  {
   "cell_type": "code",
   "execution_count": 284,
   "id": "76e441c6",
   "metadata": {},
   "outputs": [
    {
     "ename": "IndexError",
     "evalue": "list index out of range",
     "output_type": "error",
     "traceback": [
      "\u001b[0;31m---------------------------------------------------------------------------\u001b[0m",
      "\u001b[0;31mIndexError\u001b[0m                                Traceback (most recent call last)",
      "Cell \u001b[0;32mIn[284], line 3\u001b[0m\n\u001b[1;32m      1\u001b[0m test_num \u001b[38;5;241m=\u001b[39m \u001b[38;5;241m80\u001b[39m\n\u001b[0;32m----> 3\u001b[0m classifier\u001b[38;5;241m.\u001b[39mpredict([\u001b[43mtest_data\u001b[49m\u001b[43m[\u001b[49m\u001b[43mtest_num\u001b[49m\u001b[43m]\u001b[49m])\n\u001b[1;32m      4\u001b[0m \u001b[38;5;66;03m#metric_test[]\u001b[39;00m\n",
      "\u001b[0;31mIndexError\u001b[0m: list index out of range"
     ]
    }
   ],
   "source": [
    "test_num = 80\n",
    "\n",
    "classifier.predict([test_data[test_num]])\n",
    "#metric_test[]"
   ]
  },
  {
   "cell_type": "code",
   "execution_count": null,
   "id": "60a91ac2",
   "metadata": {},
   "outputs": [],
   "source": []
  }
 ],
 "metadata": {
  "kernelspec": {
   "display_name": "Python 3 (ipykernel)",
   "language": "python",
   "name": "python3"
  },
  "language_info": {
   "codemirror_mode": {
    "name": "ipython",
    "version": 3
   },
   "file_extension": ".py",
   "mimetype": "text/x-python",
   "name": "python",
   "nbconvert_exporter": "python",
   "pygments_lexer": "ipython3",
   "version": "3.12.2"
  }
 },
 "nbformat": 4,
 "nbformat_minor": 5
}
